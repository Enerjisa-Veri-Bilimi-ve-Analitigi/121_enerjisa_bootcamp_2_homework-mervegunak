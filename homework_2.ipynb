{
 "cells": [
  {
   "cell_type": "code",
   "execution_count": 1,
   "id": "578c61b9-0ffc-40eb-8c8f-0b1f40dba0bd",
   "metadata": {},
   "outputs": [],
   "source": [
    "import pandas as pd\n",
    "import numpy as np\n",
    "import datetime as dt\n",
    "import plotly.express as px\n",
    "import plotly.graph_objects as go\n",
    "\n",
    "\n",
    "import seaborn as sns\n",
    "import matplotlib.pyplot as plt\n",
    "\n",
    "\n",
    "from sklearn.model_selection import train_test_split\n",
    "from sklearn.linear_model import LogisticRegression\n",
    "from sklearn.metrics import classification_report\n",
    "from sklearn.tree import DecisionTreeClassifier\n",
    "from sklearn.metrics import accuracy_score\n",
    "from sklearn.model_selection import GridSearchCV\n",
    "from sklearn.svm import SVC\n",
    "from sklearn.metrics import confusion_matrix\n",
    "\n",
    "from imblearn.over_sampling import SMOTE\n",
    "from imblearn.under_sampling import RandomUnderSampler\n",
    "from imblearn.pipeline import Pipeline\n",
    "import random\n",
    "from sklearn.metrics import recall_score"
   ]
  },
  {
   "cell_type": "code",
   "execution_count": 2,
   "id": "e5b43ccd-9b1d-4ebc-b6c3-ed3e5c490a95",
   "metadata": {},
   "outputs": [
    {
     "data": {
      "text/html": [
       "<div>\n",
       "<style scoped>\n",
       "    .dataframe tbody tr th:only-of-type {\n",
       "        vertical-align: middle;\n",
       "    }\n",
       "\n",
       "    .dataframe tbody tr th {\n",
       "        vertical-align: top;\n",
       "    }\n",
       "\n",
       "    .dataframe thead th {\n",
       "        text-align: right;\n",
       "    }\n",
       "</style>\n",
       "<table border=\"1\" class=\"dataframe\">\n",
       "  <thead>\n",
       "    <tr style=\"text-align: right;\">\n",
       "      <th></th>\n",
       "      <th>Unnamed: 0</th>\n",
       "      <th>months_as_customer</th>\n",
       "      <th>age</th>\n",
       "      <th>policy_number</th>\n",
       "      <th>policy_bind_date</th>\n",
       "      <th>policy_state</th>\n",
       "      <th>policy_csl</th>\n",
       "      <th>policy_deductable</th>\n",
       "      <th>policy_annual_premium</th>\n",
       "      <th>umbrella_limit</th>\n",
       "      <th>...</th>\n",
       "      <th>police_report_available</th>\n",
       "      <th>total_claim_amount</th>\n",
       "      <th>injury_claim</th>\n",
       "      <th>property_claim</th>\n",
       "      <th>vehicle_claim</th>\n",
       "      <th>auto_make</th>\n",
       "      <th>auto_model</th>\n",
       "      <th>auto_year</th>\n",
       "      <th>fraud_reported</th>\n",
       "      <th>_c39</th>\n",
       "    </tr>\n",
       "  </thead>\n",
       "  <tbody>\n",
       "    <tr>\n",
       "      <th>0</th>\n",
       "      <td>0</td>\n",
       "      <td>328</td>\n",
       "      <td>48.0</td>\n",
       "      <td>521585</td>\n",
       "      <td>2014-10-17</td>\n",
       "      <td>OH</td>\n",
       "      <td>250/500</td>\n",
       "      <td>1000</td>\n",
       "      <td>1406.91</td>\n",
       "      <td>0.0</td>\n",
       "      <td>...</td>\n",
       "      <td>YES</td>\n",
       "      <td>71610</td>\n",
       "      <td>6510</td>\n",
       "      <td>13020</td>\n",
       "      <td>52080</td>\n",
       "      <td>Saab</td>\n",
       "      <td>92x</td>\n",
       "      <td>2004</td>\n",
       "      <td>Y</td>\n",
       "      <td>NaN</td>\n",
       "    </tr>\n",
       "    <tr>\n",
       "      <th>1</th>\n",
       "      <td>1</td>\n",
       "      <td>228</td>\n",
       "      <td>42.0</td>\n",
       "      <td>342868</td>\n",
       "      <td>2006-06-27</td>\n",
       "      <td>IN</td>\n",
       "      <td>250/500</td>\n",
       "      <td>2000</td>\n",
       "      <td>1197.22</td>\n",
       "      <td>5000000.0</td>\n",
       "      <td>...</td>\n",
       "      <td>?</td>\n",
       "      <td>5070</td>\n",
       "      <td>780</td>\n",
       "      <td>780</td>\n",
       "      <td>3510</td>\n",
       "      <td>Mercedes</td>\n",
       "      <td>E400</td>\n",
       "      <td>2007</td>\n",
       "      <td>Y</td>\n",
       "      <td>NaN</td>\n",
       "    </tr>\n",
       "    <tr>\n",
       "      <th>2</th>\n",
       "      <td>2</td>\n",
       "      <td>134</td>\n",
       "      <td>29.0</td>\n",
       "      <td>687698</td>\n",
       "      <td>2000-09-06</td>\n",
       "      <td>OH</td>\n",
       "      <td>NaN</td>\n",
       "      <td>2000</td>\n",
       "      <td>1413.14</td>\n",
       "      <td>5000000.0</td>\n",
       "      <td>...</td>\n",
       "      <td>NaN</td>\n",
       "      <td>34650</td>\n",
       "      <td>7700</td>\n",
       "      <td>3850</td>\n",
       "      <td>23100</td>\n",
       "      <td>Dodge</td>\n",
       "      <td>RAM</td>\n",
       "      <td>2007</td>\n",
       "      <td>N</td>\n",
       "      <td>NaN</td>\n",
       "    </tr>\n",
       "    <tr>\n",
       "      <th>3</th>\n",
       "      <td>3</td>\n",
       "      <td>256</td>\n",
       "      <td>41.0</td>\n",
       "      <td>227811</td>\n",
       "      <td>1990-05-25</td>\n",
       "      <td>IL</td>\n",
       "      <td>NaN</td>\n",
       "      <td>2000</td>\n",
       "      <td>1415.74</td>\n",
       "      <td>6000000.0</td>\n",
       "      <td>...</td>\n",
       "      <td>NO</td>\n",
       "      <td>63400</td>\n",
       "      <td>6340</td>\n",
       "      <td>6340</td>\n",
       "      <td>50720</td>\n",
       "      <td>Chevrolet</td>\n",
       "      <td>Tahoe</td>\n",
       "      <td>2014</td>\n",
       "      <td>Y</td>\n",
       "      <td>NaN</td>\n",
       "    </tr>\n",
       "    <tr>\n",
       "      <th>4</th>\n",
       "      <td>4</td>\n",
       "      <td>228</td>\n",
       "      <td>44.0</td>\n",
       "      <td>367455</td>\n",
       "      <td>2014-06-06</td>\n",
       "      <td>IL</td>\n",
       "      <td>NaN</td>\n",
       "      <td>1000</td>\n",
       "      <td>1583.91</td>\n",
       "      <td>6000000.0</td>\n",
       "      <td>...</td>\n",
       "      <td>NaN</td>\n",
       "      <td>6500</td>\n",
       "      <td>1300</td>\n",
       "      <td>650</td>\n",
       "      <td>4550</td>\n",
       "      <td>Accura</td>\n",
       "      <td>RSX</td>\n",
       "      <td>2009</td>\n",
       "      <td>N</td>\n",
       "      <td>NaN</td>\n",
       "    </tr>\n",
       "  </tbody>\n",
       "</table>\n",
       "<p>5 rows × 41 columns</p>\n",
       "</div>"
      ],
      "text/plain": [
       "   Unnamed: 0  months_as_customer   age  policy_number policy_bind_date  \\\n",
       "0           0                 328  48.0         521585       2014-10-17   \n",
       "1           1                 228  42.0         342868       2006-06-27   \n",
       "2           2                 134  29.0         687698       2000-09-06   \n",
       "3           3                 256  41.0         227811       1990-05-25   \n",
       "4           4                 228  44.0         367455       2014-06-06   \n",
       "\n",
       "  policy_state policy_csl  policy_deductable  policy_annual_premium  \\\n",
       "0           OH    250/500               1000                1406.91   \n",
       "1           IN    250/500               2000                1197.22   \n",
       "2           OH        NaN               2000                1413.14   \n",
       "3           IL        NaN               2000                1415.74   \n",
       "4           IL        NaN               1000                1583.91   \n",
       "\n",
       "   umbrella_limit  ...  police_report_available total_claim_amount  \\\n",
       "0             0.0  ...                      YES              71610   \n",
       "1       5000000.0  ...                        ?               5070   \n",
       "2       5000000.0  ...                      NaN              34650   \n",
       "3       6000000.0  ...                       NO              63400   \n",
       "4       6000000.0  ...                      NaN               6500   \n",
       "\n",
       "  injury_claim property_claim vehicle_claim  auto_make  auto_model  auto_year  \\\n",
       "0         6510          13020         52080       Saab         92x       2004   \n",
       "1          780            780          3510   Mercedes        E400       2007   \n",
       "2         7700           3850         23100      Dodge         RAM       2007   \n",
       "3         6340           6340         50720  Chevrolet       Tahoe       2014   \n",
       "4         1300            650          4550     Accura         RSX       2009   \n",
       "\n",
       "  fraud_reported _c39  \n",
       "0              Y  NaN  \n",
       "1              Y  NaN  \n",
       "2              N  NaN  \n",
       "3              Y  NaN  \n",
       "4              N  NaN  \n",
       "\n",
       "[5 rows x 41 columns]"
      ]
     },
     "metadata": {},
     "output_type": "display_data"
    },
    {
     "name": "stdout",
     "output_type": "stream",
     "text": [
      "\n",
      "\n",
      "Dataframe shape :  (1000, 41)\n",
      "\n",
      "\n",
      "<class 'pandas.core.frame.DataFrame'>\n",
      "RangeIndex: 1000 entries, 0 to 999\n",
      "Data columns (total 41 columns):\n",
      " #   Column                       Non-Null Count  Dtype  \n",
      "---  ------                       --------------  -----  \n",
      " 0   Unnamed: 0                   1000 non-null   int64  \n",
      " 1   months_as_customer           1000 non-null   int64  \n",
      " 2   age                          865 non-null    float64\n",
      " 3   policy_number                1000 non-null   int64  \n",
      " 4   policy_bind_date             1000 non-null   object \n",
      " 5   policy_state                 1000 non-null   object \n",
      " 6   policy_csl                   127 non-null    object \n",
      " 7   policy_deductable            1000 non-null   int64  \n",
      " 8   policy_annual_premium        1000 non-null   float64\n",
      " 9   umbrella_limit               802 non-null    float64\n",
      " 10  insured_zip                  1000 non-null   int64  \n",
      " 11  insured_sex                  1000 non-null   object \n",
      " 12  insured_education_level      1000 non-null   object \n",
      " 13  insured_occupation           1000 non-null   object \n",
      " 14  insured_hobbies              1000 non-null   object \n",
      " 15  insured_relationship         1000 non-null   object \n",
      " 16  capital-gains                1000 non-null   int64  \n",
      " 17  capital-loss                 1000 non-null   int64  \n",
      " 18  incident_date                1000 non-null   object \n",
      " 19  incident_type                1000 non-null   object \n",
      " 20  collision_type               1000 non-null   object \n",
      " 21  incident_severity            1000 non-null   object \n",
      " 22  authorities_contacted        1000 non-null   object \n",
      " 23  incident_state               1000 non-null   object \n",
      " 24  incident_city                1000 non-null   object \n",
      " 25  incident_location            1000 non-null   object \n",
      " 26  incident_hour_of_the_day     1000 non-null   int64  \n",
      " 27  number_of_vehicles_involved  1000 non-null   int64  \n",
      " 28  property_damage              1000 non-null   object \n",
      " 29  bodily_injuries              1000 non-null   int64  \n",
      " 30  witnesses                    1000 non-null   int64  \n",
      " 31  police_report_available      750 non-null    object \n",
      " 32  total_claim_amount           1000 non-null   int64  \n",
      " 33  injury_claim                 1000 non-null   int64  \n",
      " 34  property_claim               1000 non-null   int64  \n",
      " 35  vehicle_claim                1000 non-null   int64  \n",
      " 36  auto_make                    1000 non-null   object \n",
      " 37  auto_model                   1000 non-null   object \n",
      " 38  auto_year                    1000 non-null   int64  \n",
      " 39  fraud_reported               1000 non-null   object \n",
      " 40  _c39                         0 non-null      float64\n",
      "dtypes: float64(4), int64(16), object(21)\n",
      "memory usage: 320.4+ KB\n"
     ]
    },
    {
     "data": {
      "text/plain": [
       "None"
      ]
     },
     "metadata": {},
     "output_type": "display_data"
    },
    {
     "name": "stdout",
     "output_type": "stream",
     "text": [
      "\n",
      "\n",
      "fraud_reported count: \n",
      "\n",
      "\n",
      "N    753\n",
      "Y    247\n",
      "Name: fraud_reported, dtype: int64\n"
     ]
    }
   ],
   "source": [
    "data = pd.read_csv('auto_insurance_csv.csv')\n",
    "df = data.copy()\n",
    "\n",
    "\n",
    "display(df.head())\n",
    "\n",
    "print(\"\\n\")\n",
    "print(\"Dataframe shape : \",df.shape)\n",
    "print(\"\\n\")\n",
    "\n",
    "display(df.info())\n",
    "\n",
    "print(\"\\n\")\n",
    "\n",
    "print(\"fraud_reported count: \")\n",
    "print(\"\\n\")\n",
    "\n",
    "print(df.fraud_reported.value_counts())"
   ]
  },
  {
   "cell_type": "code",
   "execution_count": 3,
   "id": "09d706d4-0515-4847-89c0-8ea8e9b990c6",
   "metadata": {},
   "outputs": [
    {
     "data": {
      "text/html": [
       "<div>\n",
       "<style scoped>\n",
       "    .dataframe tbody tr th:only-of-type {\n",
       "        vertical-align: middle;\n",
       "    }\n",
       "\n",
       "    .dataframe tbody tr th {\n",
       "        vertical-align: top;\n",
       "    }\n",
       "\n",
       "    .dataframe thead th {\n",
       "        text-align: right;\n",
       "    }\n",
       "</style>\n",
       "<table border=\"1\" class=\"dataframe\">\n",
       "  <thead>\n",
       "    <tr style=\"text-align: right;\">\n",
       "      <th></th>\n",
       "      <th>Unnamed: 0</th>\n",
       "      <th>months_as_customer</th>\n",
       "      <th>age</th>\n",
       "      <th>policy_number</th>\n",
       "      <th>policy_deductable</th>\n",
       "      <th>policy_annual_premium</th>\n",
       "      <th>umbrella_limit</th>\n",
       "      <th>insured_zip</th>\n",
       "      <th>capital-gains</th>\n",
       "      <th>capital-loss</th>\n",
       "      <th>incident_hour_of_the_day</th>\n",
       "      <th>number_of_vehicles_involved</th>\n",
       "      <th>bodily_injuries</th>\n",
       "      <th>witnesses</th>\n",
       "      <th>total_claim_amount</th>\n",
       "      <th>injury_claim</th>\n",
       "      <th>property_claim</th>\n",
       "      <th>vehicle_claim</th>\n",
       "      <th>auto_year</th>\n",
       "      <th>_c39</th>\n",
       "    </tr>\n",
       "  </thead>\n",
       "  <tbody>\n",
       "    <tr>\n",
       "      <th>count</th>\n",
       "      <td>1000.000000</td>\n",
       "      <td>1000.000000</td>\n",
       "      <td>865.000000</td>\n",
       "      <td>1000.000000</td>\n",
       "      <td>1000.000000</td>\n",
       "      <td>1000.000000</td>\n",
       "      <td>8.020000e+02</td>\n",
       "      <td>1000.000000</td>\n",
       "      <td>1000.000000</td>\n",
       "      <td>1000.000000</td>\n",
       "      <td>1000.000000</td>\n",
       "      <td>1000.00000</td>\n",
       "      <td>1000.000000</td>\n",
       "      <td>1000.000000</td>\n",
       "      <td>1000.00000</td>\n",
       "      <td>1000.000000</td>\n",
       "      <td>1000.000000</td>\n",
       "      <td>1000.000000</td>\n",
       "      <td>1000.000000</td>\n",
       "      <td>0.0</td>\n",
       "    </tr>\n",
       "    <tr>\n",
       "      <th>mean</th>\n",
       "      <td>499.500000</td>\n",
       "      <td>203.954000</td>\n",
       "      <td>38.812717</td>\n",
       "      <td>546238.648000</td>\n",
       "      <td>1136.000000</td>\n",
       "      <td>1256.406150</td>\n",
       "      <td>1.103491e+06</td>\n",
       "      <td>501214.488000</td>\n",
       "      <td>25126.100000</td>\n",
       "      <td>-26793.700000</td>\n",
       "      <td>11.644000</td>\n",
       "      <td>1.83900</td>\n",
       "      <td>0.992000</td>\n",
       "      <td>1.487000</td>\n",
       "      <td>52761.94000</td>\n",
       "      <td>7433.420000</td>\n",
       "      <td>7399.570000</td>\n",
       "      <td>37928.950000</td>\n",
       "      <td>2005.103000</td>\n",
       "      <td>NaN</td>\n",
       "    </tr>\n",
       "    <tr>\n",
       "      <th>std</th>\n",
       "      <td>288.819436</td>\n",
       "      <td>115.113174</td>\n",
       "      <td>9.123361</td>\n",
       "      <td>257063.005276</td>\n",
       "      <td>611.864673</td>\n",
       "      <td>244.167395</td>\n",
       "      <td>2.299218e+06</td>\n",
       "      <td>71701.610941</td>\n",
       "      <td>27872.187708</td>\n",
       "      <td>28104.096686</td>\n",
       "      <td>6.951373</td>\n",
       "      <td>1.01888</td>\n",
       "      <td>0.820127</td>\n",
       "      <td>1.111335</td>\n",
       "      <td>26401.53319</td>\n",
       "      <td>4880.951853</td>\n",
       "      <td>4824.726179</td>\n",
       "      <td>18886.252893</td>\n",
       "      <td>6.015861</td>\n",
       "      <td>NaN</td>\n",
       "    </tr>\n",
       "    <tr>\n",
       "      <th>min</th>\n",
       "      <td>0.000000</td>\n",
       "      <td>0.000000</td>\n",
       "      <td>19.000000</td>\n",
       "      <td>100804.000000</td>\n",
       "      <td>500.000000</td>\n",
       "      <td>433.330000</td>\n",
       "      <td>-1.000000e+06</td>\n",
       "      <td>430104.000000</td>\n",
       "      <td>0.000000</td>\n",
       "      <td>-111100.000000</td>\n",
       "      <td>0.000000</td>\n",
       "      <td>1.00000</td>\n",
       "      <td>0.000000</td>\n",
       "      <td>0.000000</td>\n",
       "      <td>100.00000</td>\n",
       "      <td>0.000000</td>\n",
       "      <td>0.000000</td>\n",
       "      <td>70.000000</td>\n",
       "      <td>1995.000000</td>\n",
       "      <td>NaN</td>\n",
       "    </tr>\n",
       "    <tr>\n",
       "      <th>25%</th>\n",
       "      <td>249.750000</td>\n",
       "      <td>115.750000</td>\n",
       "      <td>32.000000</td>\n",
       "      <td>335980.250000</td>\n",
       "      <td>500.000000</td>\n",
       "      <td>1089.607500</td>\n",
       "      <td>0.000000e+00</td>\n",
       "      <td>448404.500000</td>\n",
       "      <td>0.000000</td>\n",
       "      <td>-51500.000000</td>\n",
       "      <td>6.000000</td>\n",
       "      <td>1.00000</td>\n",
       "      <td>0.000000</td>\n",
       "      <td>1.000000</td>\n",
       "      <td>41812.50000</td>\n",
       "      <td>4295.000000</td>\n",
       "      <td>4445.000000</td>\n",
       "      <td>30292.500000</td>\n",
       "      <td>2000.000000</td>\n",
       "      <td>NaN</td>\n",
       "    </tr>\n",
       "    <tr>\n",
       "      <th>50%</th>\n",
       "      <td>499.500000</td>\n",
       "      <td>199.500000</td>\n",
       "      <td>38.000000</td>\n",
       "      <td>533135.000000</td>\n",
       "      <td>1000.000000</td>\n",
       "      <td>1257.200000</td>\n",
       "      <td>0.000000e+00</td>\n",
       "      <td>466445.500000</td>\n",
       "      <td>0.000000</td>\n",
       "      <td>-23250.000000</td>\n",
       "      <td>12.000000</td>\n",
       "      <td>1.00000</td>\n",
       "      <td>1.000000</td>\n",
       "      <td>1.000000</td>\n",
       "      <td>58055.00000</td>\n",
       "      <td>6775.000000</td>\n",
       "      <td>6750.000000</td>\n",
       "      <td>42100.000000</td>\n",
       "      <td>2005.000000</td>\n",
       "      <td>NaN</td>\n",
       "    </tr>\n",
       "    <tr>\n",
       "      <th>75%</th>\n",
       "      <td>749.250000</td>\n",
       "      <td>276.250000</td>\n",
       "      <td>44.000000</td>\n",
       "      <td>759099.750000</td>\n",
       "      <td>2000.000000</td>\n",
       "      <td>1415.695000</td>\n",
       "      <td>0.000000e+00</td>\n",
       "      <td>603251.000000</td>\n",
       "      <td>51025.000000</td>\n",
       "      <td>0.000000</td>\n",
       "      <td>17.000000</td>\n",
       "      <td>3.00000</td>\n",
       "      <td>2.000000</td>\n",
       "      <td>2.000000</td>\n",
       "      <td>70592.50000</td>\n",
       "      <td>11305.000000</td>\n",
       "      <td>10885.000000</td>\n",
       "      <td>50822.500000</td>\n",
       "      <td>2010.000000</td>\n",
       "      <td>NaN</td>\n",
       "    </tr>\n",
       "    <tr>\n",
       "      <th>max</th>\n",
       "      <td>999.000000</td>\n",
       "      <td>479.000000</td>\n",
       "      <td>64.000000</td>\n",
       "      <td>999435.000000</td>\n",
       "      <td>2000.000000</td>\n",
       "      <td>2047.590000</td>\n",
       "      <td>9.000000e+06</td>\n",
       "      <td>620962.000000</td>\n",
       "      <td>100500.000000</td>\n",
       "      <td>0.000000</td>\n",
       "      <td>23.000000</td>\n",
       "      <td>4.00000</td>\n",
       "      <td>2.000000</td>\n",
       "      <td>3.000000</td>\n",
       "      <td>114920.00000</td>\n",
       "      <td>21450.000000</td>\n",
       "      <td>23670.000000</td>\n",
       "      <td>79560.000000</td>\n",
       "      <td>2015.000000</td>\n",
       "      <td>NaN</td>\n",
       "    </tr>\n",
       "  </tbody>\n",
       "</table>\n",
       "</div>"
      ],
      "text/plain": [
       "        Unnamed: 0  months_as_customer         age  policy_number  \\\n",
       "count  1000.000000         1000.000000  865.000000    1000.000000   \n",
       "mean    499.500000          203.954000   38.812717  546238.648000   \n",
       "std     288.819436          115.113174    9.123361  257063.005276   \n",
       "min       0.000000            0.000000   19.000000  100804.000000   \n",
       "25%     249.750000          115.750000   32.000000  335980.250000   \n",
       "50%     499.500000          199.500000   38.000000  533135.000000   \n",
       "75%     749.250000          276.250000   44.000000  759099.750000   \n",
       "max     999.000000          479.000000   64.000000  999435.000000   \n",
       "\n",
       "       policy_deductable  policy_annual_premium  umbrella_limit  \\\n",
       "count        1000.000000            1000.000000    8.020000e+02   \n",
       "mean         1136.000000            1256.406150    1.103491e+06   \n",
       "std           611.864673             244.167395    2.299218e+06   \n",
       "min           500.000000             433.330000   -1.000000e+06   \n",
       "25%           500.000000            1089.607500    0.000000e+00   \n",
       "50%          1000.000000            1257.200000    0.000000e+00   \n",
       "75%          2000.000000            1415.695000    0.000000e+00   \n",
       "max          2000.000000            2047.590000    9.000000e+06   \n",
       "\n",
       "         insured_zip  capital-gains   capital-loss  incident_hour_of_the_day  \\\n",
       "count    1000.000000    1000.000000    1000.000000               1000.000000   \n",
       "mean   501214.488000   25126.100000  -26793.700000                 11.644000   \n",
       "std     71701.610941   27872.187708   28104.096686                  6.951373   \n",
       "min    430104.000000       0.000000 -111100.000000                  0.000000   \n",
       "25%    448404.500000       0.000000  -51500.000000                  6.000000   \n",
       "50%    466445.500000       0.000000  -23250.000000                 12.000000   \n",
       "75%    603251.000000   51025.000000       0.000000                 17.000000   \n",
       "max    620962.000000  100500.000000       0.000000                 23.000000   \n",
       "\n",
       "       number_of_vehicles_involved  bodily_injuries    witnesses  \\\n",
       "count                   1000.00000      1000.000000  1000.000000   \n",
       "mean                       1.83900         0.992000     1.487000   \n",
       "std                        1.01888         0.820127     1.111335   \n",
       "min                        1.00000         0.000000     0.000000   \n",
       "25%                        1.00000         0.000000     1.000000   \n",
       "50%                        1.00000         1.000000     1.000000   \n",
       "75%                        3.00000         2.000000     2.000000   \n",
       "max                        4.00000         2.000000     3.000000   \n",
       "\n",
       "       total_claim_amount  injury_claim  property_claim  vehicle_claim  \\\n",
       "count          1000.00000   1000.000000     1000.000000    1000.000000   \n",
       "mean          52761.94000   7433.420000     7399.570000   37928.950000   \n",
       "std           26401.53319   4880.951853     4824.726179   18886.252893   \n",
       "min             100.00000      0.000000        0.000000      70.000000   \n",
       "25%           41812.50000   4295.000000     4445.000000   30292.500000   \n",
       "50%           58055.00000   6775.000000     6750.000000   42100.000000   \n",
       "75%           70592.50000  11305.000000    10885.000000   50822.500000   \n",
       "max          114920.00000  21450.000000    23670.000000   79560.000000   \n",
       "\n",
       "         auto_year  _c39  \n",
       "count  1000.000000   0.0  \n",
       "mean   2005.103000   NaN  \n",
       "std       6.015861   NaN  \n",
       "min    1995.000000   NaN  \n",
       "25%    2000.000000   NaN  \n",
       "50%    2005.000000   NaN  \n",
       "75%    2010.000000   NaN  \n",
       "max    2015.000000   NaN  "
      ]
     },
     "execution_count": 3,
     "metadata": {},
     "output_type": "execute_result"
    }
   ],
   "source": [
    "df.describe()\n"
   ]
  },
  {
   "cell_type": "code",
   "execution_count": 4,
   "id": "f70b7e38-46cd-41e0-96d0-9cb4f8956265",
   "metadata": {},
   "outputs": [
    {
     "name": "stdout",
     "output_type": "stream",
     "text": [
      "policy_bind_date : 951\n",
      "policy_state : 3\n",
      "policy_csl : 3\n",
      "insured_sex : 2\n",
      "insured_education_level : 7\n",
      "insured_occupation : 14\n",
      "insured_hobbies : 20\n",
      "insured_relationship : 6\n",
      "incident_date : 60\n",
      "incident_type : 4\n",
      "collision_type : 4\n",
      "incident_severity : 4\n",
      "authorities_contacted : 5\n",
      "incident_state : 7\n",
      "incident_city : 7\n",
      "incident_location : 1000\n",
      "property_damage : 3\n",
      "police_report_available : 3\n",
      "auto_make : 14\n",
      "auto_model : 39\n",
      "fraud_reported : 2\n"
     ]
    }
   ],
   "source": [
    "for i in df.columns:\n",
    "    if df[i].dtype == 'object':\n",
    "        print(i, \":\", df[i].nunique())"
   ]
  },
  {
   "cell_type": "code",
   "execution_count": 5,
   "id": "55c30c79-c1db-460d-9d75-02d8d4290a20",
   "metadata": {
    "tags": []
   },
   "outputs": [],
   "source": [
    "# fraud_reported kolonu ile gruplayıp ilgili yaşların ortalamasıyla boş olan değerlerin doldurulması: \n",
    "\n",
    "df[\"age\"] = df.groupby(['fraud_reported'])['age'].apply(lambda x: round(x.fillna(x.mean())))\n",
    "\n",
    "bin_labels_age = ['15-20', '21-25', '26-30', '31-35', '36-40', '41-45', '46-50', '51-55', '56-60', '61-65']\n",
    "bins = [15, 20, 25, 30, 35, 40, 45, 50, 55, 60, 65]\n",
    "df['age_group'] = pd.cut(df['age'], bins = bins, labels = bin_labels_age, include_lowest = True)\n",
    "\n",
    "# policy_csl değişkenindeki boş alanlar \"missing\" string'i ile doldurulması :\n",
    "\n",
    "df['policy_csl'] = df.policy_csl.fillna(\"MISSING\")\n",
    "\n",
    "# umbrella_limit değişkenindeki 0.0 olan alanlar \"NO\" , \n",
    "# sıfırdan farklı sayısal bir veri içeren alanlara \"YES\" ,\n",
    "# son olarak eksik verilerin \"missing\" string'i ile doldurulması : \n",
    "\n",
    "df['umbrella_limit'] = df.umbrella_limit.fillna(\"MISSING\")\n",
    "df['umbrella_limit'] = df['umbrella_limit'].replace(0.0, 'NO')\n",
    "\n",
    "for i in df['umbrella_limit'].unique():\n",
    "    if (i != 'MISSING') & (i != 'NO'):\n",
    "        df['umbrella_limit'] = df['umbrella_limit'].replace(i, 'YES')\n",
    "        \n",
    "# police_report_available değişkenindeki boş satırlar \"missing\" string'i ile doldurulması :\n",
    "\n",
    "df['police_report_available'] = df.police_report_available.fillna(\"MISSING\")\n",
    "\n",
    "# policy_bind_date ve incident_date değişkenlerinin datetime'a çevrilmesi, \n",
    "# ilgili değişkenlerin birbirlerinden çıkartılarak \"claim_day_of_policy\" adında yeni bir kolon oluşturulması: \n",
    "\n",
    "df['policy_bind_date'] = pd.to_datetime(df['policy_bind_date'])\n",
    "df['incident_date'] = pd.to_datetime(df['incident_date'])\n",
    "df['claim_day_of_policy'] = (df.incident_date -  df.policy_bind_date).dt.days\n",
    "\n",
    "# insured_hobbies kolonunda \"chess\" ve \"cross-fit\" dışındaki veriler \"other\" kategorisine çekilmesi : \n",
    "\n",
    "hobbies = df['insured_hobbies'].unique()\n",
    "for hobby in hobbies:\n",
    "  if (hobby != 'chess') & (hobby != 'cross-fit'):\n",
    "    df['insured_hobbies'] = df['insured_hobbies'].str.replace(hobby, 'other')\n",
    "    \n",
    "# kazanın yaşandığı yer ile poliçenin düzenlendiği yer aynı mıdır kontrolünün yapılması ve \"location_check\" adlı bir değişken oluşturulması : \n",
    "df['location_check'] = np.nan\n",
    "df['location_check'] = np.where(df['policy_state'] == df['incident_state'], True, False)\n",
    "    \n",
    "\n",
    "# analizlerin yapıldığı yaklaşık tarih olarak \"2016\" baz yılı alınarak araç yaşı(\"vehicle_age\") değişkeninin oluşturulması : \n",
    "\n",
    "df['vehicle_age'] = 2016 - df['auto_year'] \n"
   ]
  },
  {
   "cell_type": "code",
   "execution_count": 6,
   "id": "16aabef3-ed9d-445a-9936-62f0e37e8c45",
   "metadata": {},
   "outputs": [],
   "source": [
    "bins_tca = [0, 10_000, 20_000, 30_000, 40_000, 50_000, 60_000, 70_000, 80_000, 90_000, 100_000, 110_000, 1_000_000]\n",
    "bin_labels_tca = ['0-10','10-20','20-30','30-40','40-50','50-60','60-70','70-80','80-90','90-100', '100-110', '110+']\n",
    "df['total_claim_amount'] = pd.cut(df['total_claim_amount'], bins = bins_tca, labels = bin_labels_tca, include_lowest= True)\n",
    "\n",
    "bins_macg = [0, 50, 100, 150, 200, 250, 300, 350, 400, 450, 500]\n",
    "bin_labels_macg = ['0-50','51-100','101-150','151-200','201-250','251-300','301-350','351-400','401-450','451-500']\n",
    "df['months_as_customer'] = pd.cut(df['months_as_customer'], bins = bins_macg, labels = bin_labels_macg, include_lowest= True)\n",
    "\n",
    "bins_papg = list(np.linspace(0,2500, 6, dtype = int))\n",
    "bin_labels_papg = ['very low', 'low', 'medium', 'high', 'very high']\n",
    "df['policy_annual_premium'] = pd.cut(df['policy_annual_premium'], bins = bins_papg, labels=bin_labels_papg)\n",
    "\n",
    "bins_pdg = list(np.linspace(0,2000, 5, dtype = int))\n",
    "bin_labels_pdg = ['0-500', '501-1000', '1001-1500', '1501-2000']\n",
    "df['policy_deductable'] = pd.cut(df['policy_deductable'], bins = bins_pdg, labels = bin_labels_pdg)\n",
    "\n",
    "# hedef değişkenin 0 ve 1 olarak dönüştürülmesi : \n",
    "\n",
    "df['fraud_reported'] = df['fraud_reported'].replace(('Y','N'),(0,1))\n",
    "\n",
    "# gereksiz kolonların veri setimizden çıkartılması : \n",
    "\n",
    "df = df.drop(['_c39','Unnamed: 0','age','policy_bind_date','incident_date','policy_number','incident_location','auto_model','insured_zip',\"auto_year\"], axis = 1)"
   ]
  },
  {
   "cell_type": "code",
   "execution_count": 7,
   "id": "a04273ed-c9b1-4ed0-ae4d-3a37d3cab89b",
   "metadata": {},
   "outputs": [
    {
     "data": {
      "text/plain": [
       "(1000, 35)"
      ]
     },
     "execution_count": 7,
     "metadata": {},
     "output_type": "execute_result"
    }
   ],
   "source": [
    "df.shape "
   ]
  },
  {
   "cell_type": "code",
   "execution_count": 8,
   "id": "5c34018d-e238-4a6a-9f12-b17c2d78adbc",
   "metadata": {},
   "outputs": [
    {
     "data": {
      "text/plain": [
       "months_as_customer             0\n",
       "policy_state                   0\n",
       "policy_csl                     0\n",
       "policy_deductable              0\n",
       "policy_annual_premium          0\n",
       "umbrella_limit                 0\n",
       "insured_sex                    0\n",
       "insured_education_level        0\n",
       "insured_occupation             0\n",
       "insured_hobbies                0\n",
       "insured_relationship           0\n",
       "capital-gains                  0\n",
       "capital-loss                   0\n",
       "incident_type                  0\n",
       "collision_type                 0\n",
       "incident_severity              0\n",
       "authorities_contacted          0\n",
       "incident_state                 0\n",
       "incident_city                  0\n",
       "incident_hour_of_the_day       0\n",
       "number_of_vehicles_involved    0\n",
       "property_damage                0\n",
       "bodily_injuries                0\n",
       "witnesses                      0\n",
       "police_report_available        0\n",
       "total_claim_amount             0\n",
       "injury_claim                   0\n",
       "property_claim                 0\n",
       "vehicle_claim                  0\n",
       "auto_make                      0\n",
       "fraud_reported                 0\n",
       "age_group                      0\n",
       "claim_day_of_policy            0\n",
       "location_check                 0\n",
       "vehicle_age                    0\n",
       "dtype: int64"
      ]
     },
     "execution_count": 8,
     "metadata": {},
     "output_type": "execute_result"
    }
   ],
   "source": [
    "df.isnull().sum()"
   ]
  },
  {
   "cell_type": "code",
   "execution_count": 9,
   "id": "743b4cf4-56ce-40ea-839d-4a0fd6e804e9",
   "metadata": {
    "tags": []
   },
   "outputs": [
    {
     "data": {
      "image/png": "[encoded data removed]",
      "text/plain": [
       "<Figure size 1224x648 with 2 Axes>"
      ]
     },
     "metadata": {
      "needs_background": "light"
     },
     "output_type": "display_data"
    }
   ],
   "source": [
    "corr = df.corr()\n",
    "plt.figure(figsize = (17, 9))\n",
    "sns.heatmap(data = corr, annot = True, linewidth = 1)\n",
    "plt.show()"
   ]
  },
  {
   "cell_type": "markdown",
   "id": "33ef214b-1bab-4051-a7bd-9cc21fb4c9ab",
   "metadata": {},
   "source": [
    "####  Korelasyon matrisinden,  `vehicle claim` , `total_claim_amount` , `property_claim` ve `injury_claim` arasında yüksek bir korelasyon olduğunu görmekteyiz. \n",
    "#### Çünkü total_claim_amount `vehicle claim`,`property_claim` ve `injury_claim` sütunlarının toplamını vermektedir.\n",
    "\n",
    "#### total_claim_amount bilgilerini elde edip geriye kalan 3 değişken veri setimizden çıkarılacaktır. "
   ]
  },
  {
   "cell_type": "code",
   "execution_count": 10,
   "id": "1cd977b2-ce4d-4b23-bd95-47d35c96fad0",
   "metadata": {},
   "outputs": [],
   "source": [
    "df = df.drop(['vehicle_claim', 'property_claim', 'injury_claim'], axis = 1)\n"
   ]
  },
  {
   "cell_type": "code",
   "execution_count": 11,
   "id": "e6fd94b3-a538-4902-995c-550f2b1e3d60",
   "metadata": {},
   "outputs": [
    {
     "data": {
      "text/plain": [
       "Index(['months_as_customer', 'policy_state', 'policy_csl', 'policy_deductable',\n",
       "       'policy_annual_premium', 'umbrella_limit', 'insured_sex',\n",
       "       'insured_education_level', 'insured_occupation', 'insured_hobbies',\n",
       "       'insured_relationship', 'capital-gains', 'capital-loss',\n",
       "       'incident_type', 'collision_type', 'incident_severity',\n",
       "       'authorities_contacted', 'incident_state', 'incident_city',\n",
       "       'incident_hour_of_the_day', 'number_of_vehicles_involved',\n",
       "       'property_damage', 'bodily_injuries', 'witnesses',\n",
       "       'police_report_available', 'total_claim_amount', 'auto_make',\n",
       "       'fraud_reported', 'age_group', 'claim_day_of_policy', 'location_check',\n",
       "       'vehicle_age'],\n",
       "      dtype='object')"
      ]
     },
     "execution_count": 11,
     "metadata": {},
     "output_type": "execute_result"
    }
   ],
   "source": [
    "df.columns"
   ]
  },
  {
   "cell_type": "code",
   "execution_count": 12,
   "id": "1785fd94-0785-4e24-9921-4f6d0bfb4654",
   "metadata": {},
   "outputs": [],
   "source": [
    "# hedef değişken ve geriye kalan bağımsız değişkenleri ayırma : \n",
    "\n",
    "y = df.fraud_reported\n",
    "X = df.drop('fraud_reported', axis=1)"
   ]
  },
  {
   "cell_type": "markdown",
   "id": "bf30b7d5-bf8d-4302-a48a-db1255e9e759",
   "metadata": {},
   "source": [
    "## train-test-validation set ayrıştırılması : \n"
   ]
  },
  {
   "cell_type": "code",
   "execution_count": 13,
   "id": "685174c0-bce7-4b00-a9b5-240899c019a1",
   "metadata": {},
   "outputs": [],
   "source": [
    "# veri seti eğitim ve test veri seti olarak ikiye ayrılır :\n",
    "\n",
    "X_train, X_test, y_train, y_test = train_test_split(X, y, test_size = 0.2, random_state = 42)\n"
   ]
  },
  {
   "cell_type": "code",
   "execution_count": 15,
   "id": "f219ede9-3f5d-4dfe-9b29-49d9e0d325c3",
   "metadata": {},
   "outputs": [
    {
     "data": {
      "text/plain": [
       "['capital-loss', 'capital-gains', 'incident_hour_of_the_day']"
      ]
     },
     "execution_count": 15,
     "metadata": {},
     "output_type": "execute_result"
    }
   ],
   "source": [
    "cat_cols = ['age_group', 'months_as_customer', 'policy_deductable','location_check','policy_annual_premium','total_claim_amount']\n",
    "for col in cat_cols:\n",
    "    df[col] = df[col].astype('object')\n",
    "\n",
    "columns_to_encode = []\n",
    "if df[col].dtype == 'object':\n",
    "    columns_to_encode.append(col)\n",
    "    \n",
    "num_cols = list(df[[\"capital-loss\",\"capital-gains\",\"incident_hour_of_the_day\"]])\n",
    "num_cols"
   ]
  },
  {
   "cell_type": "markdown",
   "id": "16bd205b-20d9-4b16-9035-1932dafba55f",
   "metadata": {},
   "source": [
    "## Scaling"
   ]
  },
  {
   "cell_type": "code",
   "execution_count": 16,
   "id": "0303a8b2-8294-43d2-80c7-c1da34496abf",
   "metadata": {},
   "outputs": [],
   "source": [
    "from sklearn.preprocessing import StandardScaler\n",
    "\n",
    "\n",
    "scaler = StandardScaler()\n",
    "X_train_sc = pd.DataFrame(scaler.fit_transform(X_train[num_cols]))\n",
    "X_test_sc= pd.DataFrame(scaler.transform(X_test[num_cols]))"
   ]
  },
  {
   "cell_type": "markdown",
   "id": "fcb9ead7-93d3-4827-8b54-1be26dddc9c3",
   "metadata": {},
   "source": [
    "## Encoding \n"
   ]
  },
  {
   "cell_type": "code",
   "execution_count": 17,
   "id": "c99c74e5-5435-4dbe-87b7-d57ff312272f",
   "metadata": {},
   "outputs": [],
   "source": [
    "from sklearn.preprocessing import OneHotEncoder\n",
    "\n",
    "_encoder = OneHotEncoder(handle_unknown='ignore')"
   ]
  },
  {
   "cell_type": "code",
   "execution_count": 18,
   "id": "2a32bd5b-60dc-4aa1-8117-e6443d510585",
   "metadata": {},
   "outputs": [],
   "source": [
    "X_train_en = pd.DataFrame( _encoder.fit_transform(X_train[columns_to_encode]).toarray(), columns=_encoder.get_feature_names())\n",
    "X_test_en = pd.DataFrame( _encoder.transform(X_test[columns_to_encode]).toarray(), columns=_encoder.get_feature_names())"
   ]
  },
  {
   "cell_type": "code",
   "execution_count": 19,
   "id": "eeb6bf03-96d6-4154-921b-c137aa32be97",
   "metadata": {},
   "outputs": [],
   "source": [
    "X_train = pd.concat([X_train_sc, X_train_en], axis=1)\n",
    "X_test = pd.concat([X_test_sc, X_test_en], axis=1)"
   ]
  },
  {
   "cell_type": "markdown",
   "id": "4d3e5886-bad1-463e-8f5a-38a01bf4ca14",
   "metadata": {},
   "source": [
    "## SAMPLING"
   ]
  },
  {
   "cell_type": "code",
   "execution_count": 20,
   "id": "50a4e884-04d0-4171-ba22-3a40c4f8bebc",
   "metadata": {},
   "outputs": [],
   "source": [
    "oversample = SMOTE(random_state=9)\n",
    "X_res, y_res = oversample.fit_resample(X_train, y_train)"
   ]
  },
  {
   "cell_type": "code",
   "execution_count": 21,
   "id": "0eb6c733-5c1c-4b2e-8c2e-4c8fc5c23329",
   "metadata": {},
   "outputs": [
    {
     "name": "stderr",
     "output_type": "stream",
     "text": [
      "/home/merve/notebook/.venv/lib/python3.8/site-packages/seaborn/_decorators.py:36: FutureWarning: Pass the following variable as a keyword arg: x. From version 0.12, the only valid positional argument will be `data`, and passing other arguments without an explicit keyword will result in an error or misinterpretation.\n",
      "  warnings.warn(\n"
     ]
    },
    {
     "data": {
      "text/plain": [
       "<AxesSubplot:xlabel='fraud_reported', ylabel='count'>"
      ]
     },
     "execution_count": 21,
     "metadata": {},
     "output_type": "execute_result"
    },
    {
     "data": {
      "image/png": "[encoded data removed]",
      "text/plain": [
       "<Figure size 432x288 with 1 Axes>"
      ]
     },
     "metadata": {
      "needs_background": "light"
     },
     "output_type": "display_data"
    }
   ],
   "source": [
    "chck = pd.DataFrame()\n",
    "chck['fraud_reported'] = y_res\n",
    "\n",
    "sns.countplot(chck['fraud_reported'])"
   ]
  },
  {
   "cell_type": "markdown",
   "id": "a0cd3e0e-778a-45eb-8b59-2e015ac2a1d7",
   "metadata": {},
   "source": [
    "## Random Forest\n"
   ]
  },
  {
   "cell_type": "code",
   "execution_count": 22,
   "id": "8ff96452-1474-467d-9eac-c724c5342a6c",
   "metadata": {},
   "outputs": [],
   "source": [
    "from sklearn.ensemble import RandomForestClassifier\n",
    "\n",
    "rfc = RandomForestClassifier(n_estimators=25, random_state=12)\n",
    "rfc.fit(X_res, y_res)\n",
    "y_pred = rfc.predict(X_test)\n"
   ]
  },
  {
   "cell_type": "code",
   "execution_count": 23,
   "id": "fdf593ff-e7f8-4bac-b022-dd1983841c04",
   "metadata": {},
   "outputs": [
    {
     "name": "stdout",
     "output_type": "stream",
     "text": [
      "Training Accuracy:  0.96625\n",
      "Testing Accuarcy:  0.62\n"
     ]
    },
    {
     "data": {
      "image/png": "[encoded data removed]",
      "text/plain": [
       "<Figure size 576x432 with 2 Axes>"
      ]
     },
     "metadata": {
      "needs_background": "light"
     },
     "output_type": "display_data"
    },
    {
     "name": "stdout",
     "output_type": "stream",
     "text": [
      "              precision    recall  f1-score   support\n",
      "\n",
      "           0       0.30      0.29      0.30        55\n",
      "           1       0.73      0.74      0.74       145\n",
      "\n",
      "    accuracy                           0.62       200\n",
      "   macro avg       0.52      0.52      0.52       200\n",
      "weighted avg       0.62      0.62      0.62       200\n",
      "\n"
     ]
    }
   ],
   "source": [
    "print(\"Training Accuracy: \", rfc.score(X_train, y_train))\n",
    "print('Testing Accuarcy: ', rfc.score(X_test, y_test))\n",
    "\n",
    "# confusion matrix\n",
    "cm = confusion_matrix(y_test, y_pred)\n",
    "plt.rcParams['figure.figsize'] = (8, 6)\n",
    "sns.heatmap(cm, annot = True, cmap = 'winter')\n",
    "plt.show()\n",
    "\n",
    "# classification report\n",
    "cr = classification_report(y_test, y_pred)\n",
    "print(cr)"
   ]
  },
  {
   "cell_type": "markdown",
   "id": "ef003da5-e1b5-4df6-bd18-d261487a952e",
   "metadata": {},
   "source": [
    "## Decision Tree"
   ]
  },
  {
   "cell_type": "code",
   "execution_count": 24,
   "id": "1beb1055-ae6f-444d-b97d-76a115e1a3d4",
   "metadata": {},
   "outputs": [],
   "source": [
    "dtc = DecisionTreeClassifier()\n",
    "\n",
    "dtc.fit(X_res, y_res)\n",
    "y_pred = dtc.predict(X_test)"
   ]
  },
  {
   "cell_type": "code",
   "execution_count": 25,
   "id": "3e8e3029-4c1d-44e5-a02b-5cb0786f42c3",
   "metadata": {},
   "outputs": [
    {
     "name": "stdout",
     "output_type": "stream",
     "text": [
      "Training Accuracy:  0.96625\n",
      "Testing Accuarcy:  0.565\n"
     ]
    },
    {
     "data": {
      "image/png": "[encoded data removed]",
      "text/plain": [
       "<Figure size 576x576 with 2 Axes>"
      ]
     },
     "metadata": {
      "needs_background": "light"
     },
     "output_type": "display_data"
    },
    {
     "name": "stdout",
     "output_type": "stream",
     "text": [
      "              precision    recall  f1-score   support\n",
      "\n",
      "           0       0.27      0.35      0.30        55\n",
      "           1       0.72      0.65      0.68       145\n",
      "\n",
      "    accuracy                           0.56       200\n",
      "   macro avg       0.50      0.50      0.49       200\n",
      "weighted avg       0.60      0.56      0.58       200\n",
      "\n"
     ]
    }
   ],
   "source": [
    "print(\"Training Accuracy: \", dtc.score(X_train, y_train))\n",
    "print('Testing Accuarcy: ', dtc.score(X_test, y_test))\n",
    "\n",
    "# confusion matrix\n",
    "cm = confusion_matrix(y_test, y_pred)\n",
    "plt.rcParams['figure.figsize'] = (8, 8)\n",
    "sns.heatmap(cm, annot = True, cmap = 'autumn')\n",
    "plt.show()\n",
    "\n",
    "# classification report\n",
    "cr = classification_report(y_test, y_pred)\n",
    "print(cr)"
   ]
  },
  {
   "cell_type": "markdown",
   "id": "8eac6442-eab3-4039-9034-22af9e133382",
   "metadata": {},
   "source": [
    "## SVC"
   ]
  },
  {
   "cell_type": "code",
   "execution_count": 26,
   "id": "e1d50e0d-3c87-41c3-823b-b3b9b82c3a68",
   "metadata": {},
   "outputs": [],
   "source": [
    "\n",
    "svc = SVC(kernel='linear')\n",
    "svc.fit(X_res, y_res)\n",
    "y_pred = svc.predict(X_test)"
   ]
  },
  {
   "cell_type": "code",
   "execution_count": 27,
   "id": "73891d7f-89a4-4f88-908b-89d4d63499c6",
   "metadata": {},
   "outputs": [
    {
     "name": "stdout",
     "output_type": "stream",
     "text": [
      "Training Accuracy:  0.4975\n",
      "Testing Accuarcy:  0.53\n"
     ]
    },
    {
     "data": {
      "image/png": "[encoded data removed]",
      "text/plain": [
       "<Figure size 576x576 with 2 Axes>"
      ]
     },
     "metadata": {
      "needs_background": "light"
     },
     "output_type": "display_data"
    },
    {
     "name": "stdout",
     "output_type": "stream",
     "text": [
      "              precision    recall  f1-score   support\n",
      "\n",
      "           0       0.34      0.73      0.46        55\n",
      "           1       0.81      0.46      0.58       145\n",
      "\n",
      "    accuracy                           0.53       200\n",
      "   macro avg       0.58      0.59      0.52       200\n",
      "weighted avg       0.68      0.53      0.55       200\n",
      "\n"
     ]
    }
   ],
   "source": [
    "print(\"Training Accuracy: \", svc.score(X_train, y_train))\n",
    "print('Testing Accuarcy: ', svc.score(X_test, y_test))\n",
    "\n",
    "# confusion matrix\n",
    "cm = confusion_matrix(y_test, y_pred)\n",
    "plt.rcParams['figure.figsize'] = (8, 8)\n",
    "sns.heatmap(cm, annot = True, cmap = 'summer')\n",
    "plt.show()\n",
    "\n",
    "# classification report\n",
    "cr = classification_report(y_test, y_pred)\n",
    "print(cr)"
   ]
  },
  {
   "cell_type": "code",
   "execution_count": 28,
   "id": "d5377db7-6581-4362-b5db-4ca6e2a34dfd",
   "metadata": {},
   "outputs": [],
   "source": [
    "# Ensemble Classifier\n",
    "from imblearn.ensemble import EasyEnsembleClassifier \n",
    "\n",
    "model1 = EasyEnsembleClassifier(n_estimators = 100, random_state = 0)\n",
    "\n",
    "model1.fit(X_res, y_res)\n",
    "y_pred_ef = model1.predict(X_test)\n"
   ]
  },
  {
   "cell_type": "code",
   "execution_count": 29,
   "id": "91dab952-405e-479c-9b96-7c009dc58ec5",
   "metadata": {},
   "outputs": [
    {
     "name": "stdout",
     "output_type": "stream",
     "text": [
      "Training Accuracy:  0.5925\n",
      "Testing Accuarcy:  0.59\n"
     ]
    },
    {
     "data": {
      "image/png": "[encoded data removed]",
      "text/plain": [
       "<Figure size 576x576 with 2 Axes>"
      ]
     },
     "metadata": {
      "needs_background": "light"
     },
     "output_type": "display_data"
    },
    {
     "name": "stdout",
     "output_type": "stream",
     "text": [
      "              precision    recall  f1-score   support\n",
      "\n",
      "           0       0.34      0.73      0.46        55\n",
      "           1       0.81      0.46      0.58       145\n",
      "\n",
      "    accuracy                           0.53       200\n",
      "   macro avg       0.58      0.59      0.52       200\n",
      "weighted avg       0.68      0.53      0.55       200\n",
      "\n"
     ]
    }
   ],
   "source": [
    "print(\"Training Accuracy: \", model1.score(X_train, y_train))\n",
    "print('Testing Accuarcy: ', model1.score(X_test, y_test))\n",
    "\n",
    "# confusion matrix\n",
    "cm = confusion_matrix(y_test, y_pred)\n",
    "plt.rcParams['figure.figsize'] = (8, 8)\n",
    "sns.heatmap(cm, annot = True, cmap = 'spring')\n",
    "plt.show()\n",
    "\n",
    "# classification report\n",
    "cr = classification_report(y_test, y_pred)\n",
    "print(cr)"
   ]
  },
  {
   "cell_type": "code",
   "execution_count": null,
   "id": "95694ffc-7e2b-4e8c-b592-107db99747fd",
   "metadata": {},
   "outputs": [],
   "source": []
  }
 ],
 "metadata": {
  "kernelspec": {
   "display_name": "Python 3 (ipykernel)",
   "language": "python",
   "name": "python3"
  },
  "language_info": {
   "codemirror_mode": {
    "name": "ipython",
    "version": 3
   },
   "file_extension": ".py",
   "mimetype": "text/x-python",
   "name": "python",
   "nbconvert_exporter": "python",
   "pygments_lexer": "ipython3",
   "version": "3.8.10"
  }
 },
 "nbformat": 4,
 "nbformat_minor": 5
}
